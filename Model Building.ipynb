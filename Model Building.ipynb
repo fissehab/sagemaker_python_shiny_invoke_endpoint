{
 "cells": [
  {
   "cell_type": "markdown",
   "metadata": {},
   "source": [
    "<h2>Kaggle Bike Sharing Demand Dataset</h2>\n",
    "\n",
    "In this notebook, we will train a model that predicts bike sharing demand. This was Kaggle compition. You can download the data from https://www.kaggle.com/c/bike-sharing-demand/data\n",
    "\n",
    "\n",
    "<h3>Objective:</h3> \n",
    "<quote>You are provided hourly rental data spanning two years. For this competition, the training set is comprised of the first 19 days of each month, while the test set is the 20th to the end of the month. You must predict the total count of bikes rented during each hour covered by the test set, using only information available prior to the rental period (Ref: Kaggle.com)</quote>"
   ]
  },
  {
   "cell_type": "markdown",
   "metadata": {},
   "source": [
    "### Import packages"
   ]
  },
  {
   "cell_type": "code",
   "execution_count": 2,
   "metadata": {},
   "outputs": [],
   "source": [
    "import numpy as np\n",
    "import pandas as pd\n",
    "\n",
    "# Define IAM role\n",
    "\n",
    "import boto3\n",
    "import re\n",
    "import sagemaker\n",
    "from sagemaker import get_execution_role"
   ]
  },
  {
   "cell_type": "markdown",
   "metadata": {},
   "source": [
    "### Upload Data to S3"
   ]
  },
  {
   "cell_type": "code",
   "execution_count": 18,
   "metadata": {},
   "outputs": [],
   "source": [
    "bucket_name = 'fish-dsci'\n",
    "training_file_key = 'sagemaker/tutorial/biketrain/bike_train.csv'\n",
    "validation_file_key = 'sagemaker/tutorial/biketrain/bike_validation.csv'\n",
    "test_file_key = 'sagemaker/tutorial/biketrain/bike_test.csv'\n",
    "\n",
    "s3_model_output_location = r's3://{0}/sagemaker/tutorial/biketrain/model'.format(bucket_name)\n",
    "s3_training_file_location = r's3://{0}/{1}'.format(bucket_name,training_file_key)\n",
    "s3_validation_file_location = r's3://{0}/{1}'.format(bucket_name,validation_file_key)\n",
    "s3_test_file_location = r's3://{0}/{1}'.format(bucket_name,test_file_key)"
   ]
  },
  {
   "cell_type": "code",
   "execution_count": 19,
   "metadata": {},
   "outputs": [
    {
     "name": "stdout",
     "output_type": "stream",
     "text": [
      "s3://fish-dsci/sagemaker/tutorial/biketrain/model\n",
      "s3://fish-dsci/sagemaker/tutorial/biketrain/bike_train.csv\n",
      "s3://fish-dsci/sagemaker/tutorial/biketrain/bike_validation.csv\n",
      "s3://fish-dsci/sagemaker/tutorial/biketrain/bike_test.csv\n"
     ]
    }
   ],
   "source": [
    "print(s3_model_output_location)\n",
    "print(s3_training_file_location)\n",
    "print(s3_validation_file_location)\n",
    "print(s3_test_file_location)"
   ]
  },
  {
   "cell_type": "code",
   "execution_count": 5,
   "metadata": {},
   "outputs": [],
   "source": [
    "# A function to write data to s3\n",
    "\n",
    "def write_to_s3(filename, bucket, key):\n",
    "    with open(filename,'rb') as f: # Read in binary mode\n",
    "        return boto3.Session().resource('s3').Bucket(bucket).Object(key).upload_fileobj(f)"
   ]
  },
  {
   "cell_type": "code",
   "execution_count": 6,
   "metadata": {},
   "outputs": [],
   "source": [
    "write_to_s3('bike_train.csv',bucket_name,training_file_key)\n",
    "write_to_s3('bike_validation.csv',bucket_name,validation_file_key)\n",
    "write_to_s3('bike_test.csv',bucket_name,test_file_key)"
   ]
  },
  {
   "cell_type": "markdown",
   "metadata": {},
   "source": [
    "## Training Algorithm Docker Image\n",
    "### AWS Maintains a separate image for every region and algorithm"
   ]
  },
  {
   "cell_type": "code",
   "execution_count": 7,
   "metadata": {},
   "outputs": [],
   "source": [
    "# Registry Path for algorithms provided by SageMaker\n",
    "#  https://docs.aws.amazon.com/sagemaker/latest/dg/sagemaker-algo-docker-registry-paths.html\n",
    "\n",
    "containers = {'us-west-2': '433757028032.dkr.ecr.us-west-2.amazonaws.com/xgboost:latest',\n",
    "              'us-east-1': '811284229777.dkr.ecr.us-east-1.amazonaws.com/xgboost:latest',\n",
    "              'us-east-2': '825641698319.dkr.ecr.us-east-2.amazonaws.com/xgboost:latest',\n",
    "              'eu-west-1': '685385470294.dkr.ecr.eu-west-1.amazonaws.com/xgboost:latest'}"
   ]
  },
  {
   "cell_type": "code",
   "execution_count": 8,
   "metadata": {},
   "outputs": [],
   "source": [
    "role = get_execution_role()"
   ]
  },
  {
   "cell_type": "code",
   "execution_count": 9,
   "metadata": {},
   "outputs": [
    {
     "name": "stdout",
     "output_type": "stream",
     "text": [
      "arn:aws:iam::586260461210:role/service-role/AmazonSageMaker-ExecutionRole-20180812T064411\n"
     ]
    }
   ],
   "source": [
    "# This role contains the permissions needed to train, deploy models\n",
    "# SageMaker Service is trusted to assume this role\n",
    "print(role)"
   ]
  },
  {
   "cell_type": "markdown",
   "metadata": {},
   "source": [
    "## Build Model"
   ]
  },
  {
   "cell_type": "code",
   "execution_count": 10,
   "metadata": {},
   "outputs": [],
   "source": [
    "sess = sagemaker.Session()"
   ]
  },
  {
   "cell_type": "code",
   "execution_count": 11,
   "metadata": {},
   "outputs": [],
   "source": [
    "# Access appropriate algorithm container image\n",
    "#  Specify how many instances to use for distributed training and what type of machine to use\n",
    "#  Finally, specify where the trained model artifacts needs to be stored\n",
    "#   Reference: http://sagemaker.readthedocs.io/en/latest/estimators.html\n",
    "\n",
    "estimator = sagemaker.estimator.Estimator(containers[boto3.Session().region_name],\n",
    "                                       role, \n",
    "                                       train_instance_count=1, \n",
    "                                       train_instance_type='ml.m4.xlarge',\n",
    "                                       output_path=s3_model_output_location,\n",
    "                                       sagemaker_session=sess,\n",
    "                                       base_job_name ='xgboost-biketrain-v1')"
   ]
  },
  {
   "cell_type": "code",
   "execution_count": 12,
   "metadata": {},
   "outputs": [],
   "source": [
    "# Specify hyper parameters that appropriate for the training algorithm\n",
    "# XGBoost Training Parameter Reference: \n",
    "#   https://github.com/dmlc/xgboost/blob/master/doc/parameter.md\n",
    "\n",
    "# max_depth=5,eta=0.1,subsample=0.7,num_round=150\n",
    "\n",
    "estimator.set_hyperparameters(max_depth=5,objective=\"reg:linear\",\n",
    "                              eta=0.1,subsample=0.7,num_round=150)"
   ]
  },
  {
   "cell_type": "code",
   "execution_count": 13,
   "metadata": {},
   "outputs": [
    {
     "data": {
      "text/plain": [
       "{'max_depth': 5,\n",
       " 'objective': 'reg:linear',\n",
       " 'eta': 0.1,\n",
       " 'subsample': 0.7,\n",
       " 'num_round': 150}"
      ]
     },
     "execution_count": 13,
     "metadata": {},
     "output_type": "execute_result"
    }
   ],
   "source": [
    "estimator.hyperparameters()"
   ]
  },
  {
   "cell_type": "markdown",
   "metadata": {
    "collapsed": true
   },
   "source": [
    "### Specify Training Data Location and Optionally, Validation Data Location"
   ]
  },
  {
   "cell_type": "code",
   "execution_count": 20,
   "metadata": {},
   "outputs": [],
   "source": [
    "# content type can be libsvm or csv for XGBoost\n",
    "\n",
    "training_input_config = sagemaker.session.s3_input(s3_data=s3_training_file_location,content_type=\"csv\")\n",
    "validation_input_config = sagemaker.session.s3_input(s3_data=s3_validation_file_location,content_type=\"csv\")"
   ]
  },
  {
   "cell_type": "code",
   "execution_count": 21,
   "metadata": {},
   "outputs": [
    {
     "name": "stdout",
     "output_type": "stream",
     "text": [
      "{'DataSource': {'S3DataSource': {'S3DataDistributionType': 'FullyReplicated', 'S3DataType': 'S3Prefix', 'S3Uri': 's3://fish-dsci/sagemaker/tutorial/biketrain/bike_train.csv'}}, 'ContentType': 'csv'}\n",
      "{'DataSource': {'S3DataSource': {'S3DataDistributionType': 'FullyReplicated', 'S3DataType': 'S3Prefix', 'S3Uri': 's3://fish-dsci/sagemaker/tutorial/biketrain/bike_validation.csv'}}, 'ContentType': 'csv'}\n"
     ]
    }
   ],
   "source": [
    "print(training_input_config.config)\n",
    "print(validation_input_config.config)"
   ]
  },
  {
   "cell_type": "markdown",
   "metadata": {},
   "source": [
    "### Train the model"
   ]
  },
  {
   "cell_type": "code",
   "execution_count": 16,
   "metadata": {},
   "outputs": [
    {
     "name": "stderr",
     "output_type": "stream",
     "text": [
      "INFO:sagemaker:Creating training-job with name: xgboost-biketrain-v1-2018-08-25-00-32-37-073\n"
     ]
    },
    {
     "name": "stdout",
     "output_type": "stream",
     "text": [
      "....................\n",
      "\u001b[31mArguments: train\u001b[0m\n",
      "\u001b[31m[2018-08-25:00:35:47:INFO] Running standalone xgboost training.\u001b[0m\n",
      "\u001b[31m[2018-08-25:00:35:47:INFO] File size need to be processed in the node: 0.65mb. Available memory size in the node: 8603.52mb\u001b[0m\n",
      "\u001b[31m[2018-08-25:00:35:47:INFO] Determined delimiter of CSV input is ','\u001b[0m\n",
      "\u001b[31m[00:35:47] S3DistributionType set as FullyReplicated\u001b[0m\n",
      "\u001b[31m[00:35:47] 7620x13 matrix with 99060 entries loaded from /opt/ml/input/data/train?format=csv&label_column=0&delimiter=,\u001b[0m\n",
      "\u001b[31m[2018-08-25:00:35:47:INFO] Determined delimiter of CSV input is ','\u001b[0m\n",
      "\u001b[31m[00:35:47] S3DistributionType set as FullyReplicated\u001b[0m\n",
      "\u001b[31m[00:35:47] 3266x13 matrix with 42458 entries loaded from /opt/ml/input/data/validation?format=csv&label_column=0&delimiter=,\u001b[0m\n",
      "\u001b[31m[00:35:47] src/tree/updater_prune.cc:74: tree pruning end, 1 roots, 46 extra nodes, 0 pruned nodes, max_depth=5\u001b[0m\n",
      "\u001b[31m[0]#011train-rmse:3.90451#011validation-rmse:3.91509\u001b[0m\n",
      "\u001b[31m[00:35:47] src/tree/updater_prune.cc:74: tree pruning end, 1 roots, 52 extra nodes, 0 pruned nodes, max_depth=5\u001b[0m\n",
      "\u001b[31m[1]#011train-rmse:3.52542#011validation-rmse:3.53449\u001b[0m\n",
      "\u001b[31m[00:35:47] src/tree/updater_prune.cc:74: tree pruning end, 1 roots, 52 extra nodes, 0 pruned nodes, max_depth=5\u001b[0m\n",
      "\u001b[31m[2]#011train-rmse:3.18395#011validation-rmse:3.19187\u001b[0m\n",
      "\u001b[31m[00:35:47] src/tree/updater_prune.cc:74: tree pruning end, 1 roots, 52 extra nodes, 0 pruned nodes, max_depth=5\u001b[0m\n",
      "\u001b[31m[3]#011train-rmse:2.87789#011validation-rmse:2.88442\u001b[0m\n",
      "\u001b[31m[00:35:47] src/tree/updater_prune.cc:74: tree pruning end, 1 roots, 58 extra nodes, 0 pruned nodes, max_depth=5\u001b[0m\n",
      "\u001b[31m[4]#011train-rmse:2.60148#011validation-rmse:2.60759\u001b[0m\n",
      "\u001b[31m[00:35:47] src/tree/updater_prune.cc:74: tree pruning end, 1 roots, 60 extra nodes, 0 pruned nodes, max_depth=5\u001b[0m\n",
      "\u001b[31m[5]#011train-rmse:2.35445#011validation-rmse:2.35858\u001b[0m\n",
      "\u001b[31m[00:35:47] src/tree/updater_prune.cc:74: tree pruning end, 1 roots, 56 extra nodes, 0 pruned nodes, max_depth=5\u001b[0m\n",
      "\u001b[31m[6]#011train-rmse:2.13329#011validation-rmse:2.13734\u001b[0m\n",
      "\u001b[31m[00:35:47] src/tree/updater_prune.cc:74: tree pruning end, 1 roots, 60 extra nodes, 0 pruned nodes, max_depth=5\u001b[0m\n",
      "\u001b[31m[7]#011train-rmse:1.93416#011validation-rmse:1.93894\u001b[0m\n",
      "\u001b[31m[00:35:47] src/tree/updater_prune.cc:74: tree pruning end, 1 roots, 60 extra nodes, 0 pruned nodes, max_depth=5\u001b[0m\n",
      "\u001b[31m[8]#011train-rmse:1.7546#011validation-rmse:1.75892\u001b[0m\n",
      "\u001b[31m[00:35:47] src/tree/updater_prune.cc:74: tree pruning end, 1 roots, 62 extra nodes, 0 pruned nodes, max_depth=5\u001b[0m\n",
      "\u001b[31m[9]#011train-rmse:1.59491#011validation-rmse:1.59935\u001b[0m\n",
      "\u001b[31m[00:35:47] src/tree/updater_prune.cc:74: tree pruning end, 1 roots, 62 extra nodes, 0 pruned nodes, max_depth=5\u001b[0m\n",
      "\u001b[31m[10]#011train-rmse:1.45133#011validation-rmse:1.45599\u001b[0m\n",
      "\u001b[31m[00:35:47] src/tree/updater_prune.cc:74: tree pruning end, 1 roots, 62 extra nodes, 0 pruned nodes, max_depth=5\u001b[0m\n",
      "\u001b[31m[11]#011train-rmse:1.32384#011validation-rmse:1.3278\u001b[0m\n",
      "\u001b[31m[00:35:47] src/tree/updater_prune.cc:74: tree pruning end, 1 roots, 62 extra nodes, 0 pruned nodes, max_depth=5\u001b[0m\n",
      "\u001b[31m[12]#011train-rmse:1.20962#011validation-rmse:1.21315\u001b[0m\n",
      "\u001b[31m[00:35:47] src/tree/updater_prune.cc:74: tree pruning end, 1 roots, 62 extra nodes, 0 pruned nodes, max_depth=5\u001b[0m\n",
      "\u001b[31m[13]#011train-rmse:1.10724#011validation-rmse:1.11099\u001b[0m\n",
      "\u001b[31m[00:35:47] src/tree/updater_prune.cc:74: tree pruning end, 1 roots, 62 extra nodes, 0 pruned nodes, max_depth=5\u001b[0m\n",
      "\u001b[31m[14]#011train-rmse:1.01622#011validation-rmse:1.02092\u001b[0m\n",
      "\u001b[31m[00:35:47] src/tree/updater_prune.cc:74: tree pruning end, 1 roots, 62 extra nodes, 0 pruned nodes, max_depth=5\u001b[0m\n",
      "\u001b[31m[15]#011train-rmse:0.931152#011validation-rmse:0.937008\u001b[0m\n",
      "\u001b[31m[00:35:47] src/tree/updater_prune.cc:74: tree pruning end, 1 roots, 62 extra nodes, 0 pruned nodes, max_depth=5\u001b[0m\n",
      "\u001b[31m[16]#011train-rmse:0.859269#011validation-rmse:0.866059\u001b[0m\n",
      "\u001b[31m[00:35:47] src/tree/updater_prune.cc:74: tree pruning end, 1 roots, 62 extra nodes, 0 pruned nodes, max_depth=5\u001b[0m\n",
      "\u001b[31m[17]#011train-rmse:0.795516#011validation-rmse:0.803374\u001b[0m\n",
      "\u001b[31m[00:35:47] src/tree/updater_prune.cc:74: tree pruning end, 1 roots, 62 extra nodes, 0 pruned nodes, max_depth=5\u001b[0m\n",
      "\u001b[31m[18]#011train-rmse:0.739381#011validation-rmse:0.747955\u001b[0m\n",
      "\u001b[31m[00:35:47] src/tree/updater_prune.cc:74: tree pruning end, 1 roots, 62 extra nodes, 0 pruned nodes, max_depth=5\u001b[0m\n",
      "\u001b[31m[19]#011train-rmse:0.690294#011validation-rmse:0.699415\u001b[0m\n",
      "\u001b[31m[00:35:47] src/tree/updater_prune.cc:74: tree pruning end, 1 roots, 62 extra nodes, 0 pruned nodes, max_depth=5\u001b[0m\n",
      "\u001b[31m[20]#011train-rmse:0.646311#011validation-rmse:0.656198\u001b[0m\n",
      "\u001b[31m[00:35:47] src/tree/updater_prune.cc:74: tree pruning end, 1 roots, 62 extra nodes, 0 pruned nodes, max_depth=5\u001b[0m\n",
      "\u001b[31m[21]#011train-rmse:0.603329#011validation-rmse:0.614511\u001b[0m\n",
      "\u001b[31m[00:35:47] src/tree/updater_prune.cc:74: tree pruning end, 1 roots, 60 extra nodes, 0 pruned nodes, max_depth=5\u001b[0m\n",
      "\u001b[31m[22]#011train-rmse:0.570044#011validation-rmse:0.58272\u001b[0m\n",
      "\u001b[31m[00:35:47] src/tree/updater_prune.cc:74: tree pruning end, 1 roots, 62 extra nodes, 0 pruned nodes, max_depth=5\u001b[0m\n",
      "\u001b[31m[23]#011train-rmse:0.540026#011validation-rmse:0.553229\u001b[0m\n",
      "\u001b[31m[00:35:47] src/tree/updater_prune.cc:74: tree pruning end, 1 roots, 62 extra nodes, 0 pruned nodes, max_depth=5\u001b[0m\n",
      "\u001b[31m[24]#011train-rmse:0.506511#011validation-rmse:0.521154\u001b[0m\n",
      "\u001b[31m[00:35:47] src/tree/updater_prune.cc:74: tree pruning end, 1 roots, 60 extra nodes, 0 pruned nodes, max_depth=5\u001b[0m\n",
      "\u001b[31m[25]#011train-rmse:0.482716#011validation-rmse:0.498132\u001b[0m\n",
      "\u001b[31m[00:35:47] src/tree/updater_prune.cc:74: tree pruning end, 1 roots, 62 extra nodes, 0 pruned nodes, max_depth=5\u001b[0m\n",
      "\u001b[31m[26]#011train-rmse:0.46323#011validation-rmse:0.479313\u001b[0m\n",
      "\u001b[31m[00:35:47] src/tree/updater_prune.cc:74: tree pruning end, 1 roots, 62 extra nodes, 0 pruned nodes, max_depth=5\u001b[0m\n",
      "\u001b[31m[27]#011train-rmse:0.445192#011validation-rmse:0.461847\u001b[0m\n",
      "\u001b[31m[00:35:47] src/tree/updater_prune.cc:74: tree pruning end, 1 roots, 62 extra nodes, 0 pruned nodes, max_depth=5\u001b[0m\n",
      "\u001b[31m[28]#011train-rmse:0.430835#011validation-rmse:0.448477\u001b[0m\n",
      "\u001b[31m[00:35:47] src/tree/updater_prune.cc:74: tree pruning end, 1 roots, 60 extra nodes, 0 pruned nodes, max_depth=5\u001b[0m\n",
      "\u001b[31m[29]#011train-rmse:0.412829#011validation-rmse:0.431512\u001b[0m\n",
      "\u001b[31m[00:35:48] src/tree/updater_prune.cc:74: tree pruning end, 1 roots, 62 extra nodes, 0 pruned nodes, max_depth=5\u001b[0m\n",
      "\u001b[31m[30]#011train-rmse:0.401787#011validation-rmse:0.421358\u001b[0m\n",
      "\u001b[31m[00:35:48] src/tree/updater_prune.cc:74: tree pruning end, 1 roots, 62 extra nodes, 0 pruned nodes, max_depth=5\u001b[0m\n",
      "\u001b[31m[31]#011train-rmse:0.387089#011validation-rmse:0.407901\u001b[0m\n",
      "\u001b[31m[00:35:48] src/tree/updater_prune.cc:74: tree pruning end, 1 roots, 62 extra nodes, 0 pruned nodes, max_depth=5\u001b[0m\n",
      "\u001b[31m[32]#011train-rmse:0.373295#011validation-rmse:0.395172\u001b[0m\n",
      "\u001b[31m[00:35:48] src/tree/updater_prune.cc:74: tree pruning end, 1 roots, 62 extra nodes, 0 pruned nodes, max_depth=5\u001b[0m\n",
      "\u001b[31m[33]#011train-rmse:0.362597#011validation-rmse:0.384617\u001b[0m\n",
      "\u001b[31m[00:35:48] src/tree/updater_prune.cc:74: tree pruning end, 1 roots, 58 extra nodes, 0 pruned nodes, max_depth=5\u001b[0m\n",
      "\u001b[31m[34]#011train-rmse:0.355875#011validation-rmse:0.378194\u001b[0m\n",
      "\u001b[31m[00:35:48] src/tree/updater_prune.cc:74: tree pruning end, 1 roots, 54 extra nodes, 0 pruned nodes, max_depth=5\u001b[0m\n",
      "\u001b[31m[35]#011train-rmse:0.350785#011validation-rmse:0.373614\u001b[0m\n",
      "\u001b[31m[00:35:48] src/tree/updater_prune.cc:74: tree pruning end, 1 roots, 50 extra nodes, 0 pruned nodes, max_depth=5\u001b[0m\n",
      "\u001b[31m[36]#011train-rmse:0.345755#011validation-rmse:0.369064\u001b[0m\n",
      "\u001b[31m[00:35:48] src/tree/updater_prune.cc:74: tree pruning end, 1 roots, 62 extra nodes, 0 pruned nodes, max_depth=5\u001b[0m\n",
      "\u001b[31m[37]#011train-rmse:0.340684#011validation-rmse:0.364504\u001b[0m\n",
      "\u001b[31m[00:35:48] src/tree/updater_prune.cc:74: tree pruning end, 1 roots, 62 extra nodes, 0 pruned nodes, max_depth=5\u001b[0m\n",
      "\u001b[31m[38]#011train-rmse:0.335899#011validation-rmse:0.360414\u001b[0m\n",
      "\u001b[31m[00:35:48] src/tree/updater_prune.cc:74: tree pruning end, 1 roots, 62 extra nodes, 0 pruned nodes, max_depth=5\u001b[0m\n",
      "\u001b[31m[39]#011train-rmse:0.330565#011validation-rmse:0.355654\u001b[0m\n",
      "\u001b[31m[00:35:48] src/tree/updater_prune.cc:74: tree pruning end, 1 roots, 62 extra nodes, 0 pruned nodes, max_depth=5\u001b[0m\n",
      "\u001b[31m[40]#011train-rmse:0.32749#011validation-rmse:0.352819\u001b[0m\n",
      "\u001b[31m[00:35:48] src/tree/updater_prune.cc:74: tree pruning end, 1 roots, 62 extra nodes, 0 pruned nodes, max_depth=5\u001b[0m\n",
      "\u001b[31m[41]#011train-rmse:0.322214#011validation-rmse:0.347798\u001b[0m\n",
      "\u001b[31m[00:35:48] src/tree/updater_prune.cc:74: tree pruning end, 1 roots, 62 extra nodes, 0 pruned nodes, max_depth=5\u001b[0m\n",
      "\u001b[31m[42]#011train-rmse:0.319332#011validation-rmse:0.345673\u001b[0m\n",
      "\u001b[31m[43]#011train-rmse:0.317279#011validation-rmse:0.344015\u001b[0m\n",
      "\u001b[31m[00:35:48] src/tree/updater_prune.cc:74: tree pruning end, 1 roots, 52 extra nodes, 0 pruned nodes, max_depth=5\u001b[0m\n",
      "\u001b[31m[00:35:48] src/tree/updater_prune.cc:74: tree pruning end, 1 roots, 60 extra nodes, 0 pruned nodes, max_depth=5\u001b[0m\n",
      "\u001b[31m[44]#011train-rmse:0.315158#011validation-rmse:0.342499\u001b[0m\n",
      "\u001b[31m[00:35:48] src/tree/updater_prune.cc:74: tree pruning end, 1 roots, 62 extra nodes, 0 pruned nodes, max_depth=5\u001b[0m\n",
      "\u001b[31m[45]#011train-rmse:0.310376#011validation-rmse:0.338019\u001b[0m\n",
      "\u001b[31m[00:35:48] src/tree/updater_prune.cc:74: tree pruning end, 1 roots, 60 extra nodes, 0 pruned nodes, max_depth=5\u001b[0m\n",
      "\u001b[31m[46]#011train-rmse:0.308677#011validation-rmse:0.336738\u001b[0m\n",
      "\u001b[31m[00:35:48] src/tree/updater_prune.cc:74: tree pruning end, 1 roots, 62 extra nodes, 0 pruned nodes, max_depth=5\u001b[0m\n",
      "\u001b[31m[47]#011train-rmse:0.306443#011validation-rmse:0.335277\u001b[0m\n",
      "\u001b[31m[00:35:48] src/tree/updater_prune.cc:74: tree pruning end, 1 roots, 60 extra nodes, 0 pruned nodes, max_depth=5\u001b[0m\n",
      "\u001b[31m[48]#011train-rmse:0.303883#011validation-rmse:0.333005\u001b[0m\n",
      "\u001b[31m[00:35:48] src/tree/updater_prune.cc:74: tree pruning end, 1 roots, 62 extra nodes, 0 pruned nodes, max_depth=5\u001b[0m\n",
      "\u001b[31m[49]#011train-rmse:0.302301#011validation-rmse:0.332101\u001b[0m\n",
      "\u001b[31m[00:35:48] src/tree/updater_prune.cc:74: tree pruning end, 1 roots, 60 extra nodes, 0 pruned nodes, max_depth=5\u001b[0m\n",
      "\u001b[31m[50]#011train-rmse:0.301237#011validation-rmse:0.331368\u001b[0m\n",
      "\u001b[31m[00:35:48] src/tree/updater_prune.cc:74: tree pruning end, 1 roots, 60 extra nodes, 0 pruned nodes, max_depth=5\u001b[0m\n",
      "\u001b[31m[51]#011train-rmse:0.295411#011validation-rmse:0.325768\u001b[0m\n",
      "\u001b[31m[00:35:48] src/tree/updater_prune.cc:74: tree pruning end, 1 roots, 62 extra nodes, 0 pruned nodes, max_depth=5\u001b[0m\n",
      "\u001b[31m[52]#011train-rmse:0.29392#011validation-rmse:0.324612\u001b[0m\n",
      "\u001b[31m[00:35:48] src/tree/updater_prune.cc:74: tree pruning end, 1 roots, 62 extra nodes, 0 pruned nodes, max_depth=5\u001b[0m\n",
      "\u001b[31m[53]#011train-rmse:0.290103#011validation-rmse:0.321279\u001b[0m\n",
      "\u001b[31m[00:35:48] src/tree/updater_prune.cc:74: tree pruning end, 1 roots, 54 extra nodes, 0 pruned nodes, max_depth=5\u001b[0m\n",
      "\u001b[31m[54]#011train-rmse:0.287627#011validation-rmse:0.319442\u001b[0m\n",
      "\u001b[31m[00:35:48] src/tree/updater_prune.cc:74: tree pruning end, 1 roots, 62 extra nodes, 0 pruned nodes, max_depth=5\u001b[0m\n",
      "\u001b[31m[55]#011train-rmse:0.286165#011validation-rmse:0.318312\u001b[0m\n",
      "\u001b[31m[00:35:48] src/tree/updater_prune.cc:74: tree pruning end, 1 roots, 62 extra nodes, 0 pruned nodes, max_depth=5\u001b[0m\n",
      "\u001b[31m[56]#011train-rmse:0.283963#011validation-rmse:0.31654\u001b[0m\n",
      "\u001b[31m[00:35:48] src/tree/updater_prune.cc:74: tree pruning end, 1 roots, 58 extra nodes, 0 pruned nodes, max_depth=5\u001b[0m\n",
      "\u001b[31m[57]#011train-rmse:0.283178#011validation-rmse:0.316099\u001b[0m\n",
      "\u001b[31m[00:35:48] src/tree/updater_prune.cc:74: tree pruning end, 1 roots, 62 extra nodes, 0 pruned nodes, max_depth=5\u001b[0m\n",
      "\u001b[31m[58]#011train-rmse:0.281457#011validation-rmse:0.314607\u001b[0m\n",
      "\u001b[31m[00:35:48] src/tree/updater_prune.cc:74: tree pruning end, 1 roots, 62 extra nodes, 0 pruned nodes, max_depth=5\u001b[0m\n",
      "\u001b[31m[00:35:48] src/tree/updater_prune.cc:74: tree pruning end, 1 roots, 62 extra nodes, 0 pruned nodes, max_depth=5\u001b[0m\n",
      "\u001b[31m[59]#011train-rmse:0.277702#011validation-rmse:0.311503\u001b[0m\n",
      "\u001b[31m[60]#011train-rmse:0.276634#011validation-rmse:0.311018\u001b[0m\n",
      "\u001b[31m[00:35:48] src/tree/updater_prune.cc:74: tree pruning end, 1 roots, 60 extra nodes, 0 pruned nodes, max_depth=5\u001b[0m\n",
      "\u001b[31m[61]#011train-rmse:0.274601#011validation-rmse:0.309323\u001b[0m\n",
      "\u001b[31m[00:35:48] src/tree/updater_prune.cc:74: tree pruning end, 1 roots, 56 extra nodes, 0 pruned nodes, max_depth=5\u001b[0m\n",
      "\u001b[31m[62]#011train-rmse:0.273463#011validation-rmse:0.308484\u001b[0m\n",
      "\u001b[31m[00:35:48] src/tree/updater_prune.cc:74: tree pruning end, 1 roots, 58 extra nodes, 0 pruned nodes, max_depth=5\u001b[0m\n",
      "\u001b[31m[63]#011train-rmse:0.272486#011validation-rmse:0.307876\u001b[0m\n",
      "\u001b[31m[00:35:48] src/tree/updater_prune.cc:74: tree pruning end, 1 roots, 60 extra nodes, 0 pruned nodes, max_depth=5\u001b[0m\n",
      "\u001b[31m[64]#011train-rmse:0.271553#011validation-rmse:0.307423\u001b[0m\n",
      "\u001b[31m[00:35:48] src/tree/updater_prune.cc:74: tree pruning end, 1 roots, 60 extra nodes, 0 pruned nodes, max_depth=5\u001b[0m\n",
      "\u001b[31m[65]#011train-rmse:0.270873#011validation-rmse:0.307188\u001b[0m\n",
      "\u001b[31m[66]#011train-rmse:0.269913#011validation-rmse:0.306782\u001b[0m\n",
      "\u001b[31m[00:35:48] src/tree/updater_prune.cc:74: tree pruning end, 1 roots, 62 extra nodes, 0 pruned nodes, max_depth=5\u001b[0m\n",
      "\u001b[31m[67]#011train-rmse:0.268032#011validation-rmse:0.305221\u001b[0m\n",
      "\u001b[31m[00:35:48] src/tree/updater_prune.cc:74: tree pruning end, 1 roots, 58 extra nodes, 0 pruned nodes, max_depth=5\u001b[0m\n",
      "\u001b[31m[00:35:48] src/tree/updater_prune.cc:74: tree pruning end, 1 roots, 62 extra nodes, 0 pruned nodes, max_depth=5\u001b[0m\n",
      "\u001b[31m[68]#011train-rmse:0.266498#011validation-rmse:0.304226\u001b[0m\n",
      "\u001b[31m[00:35:48] src/tree/updater_prune.cc:74: tree pruning end, 1 roots, 56 extra nodes, 0 pruned nodes, max_depth=5\u001b[0m\n",
      "\u001b[31m[69]#011train-rmse:0.265742#011validation-rmse:0.30377\u001b[0m\n",
      "\u001b[31m[00:35:48] src/tree/updater_prune.cc:74: tree pruning end, 1 roots, 62 extra nodes, 0 pruned nodes, max_depth=5\u001b[0m\n",
      "\u001b[31m[70]#011train-rmse:0.264883#011validation-rmse:0.303021\u001b[0m\n",
      "\u001b[31m[00:35:48] src/tree/updater_prune.cc:74: tree pruning end, 1 roots, 60 extra nodes, 0 pruned nodes, max_depth=5\u001b[0m\n",
      "\u001b[31m[71]#011train-rmse:0.263542#011validation-rmse:0.30189\u001b[0m\n",
      "\u001b[31m[00:35:48] src/tree/updater_prune.cc:74: tree pruning end, 1 roots, 60 extra nodes, 0 pruned nodes, max_depth=5\u001b[0m\n",
      "\u001b[31m[72]#011train-rmse:0.262781#011validation-rmse:0.301434\u001b[0m\n",
      "\u001b[31m[00:35:48] src/tree/updater_prune.cc:74: tree pruning end, 1 roots, 56 extra nodes, 0 pruned nodes, max_depth=5\u001b[0m\n",
      "\u001b[31m[73]#011train-rmse:0.262153#011validation-rmse:0.301266\u001b[0m\n",
      "\u001b[31m[00:35:48] src/tree/updater_prune.cc:74: tree pruning end, 1 roots, 62 extra nodes, 0 pruned nodes, max_depth=5\u001b[0m\n",
      "\u001b[31m[74]#011train-rmse:0.261461#011validation-rmse:0.301445\u001b[0m\n",
      "\u001b[31m[00:35:48] src/tree/updater_prune.cc:74: tree pruning end, 1 roots, 56 extra nodes, 0 pruned nodes, max_depth=5\u001b[0m\n",
      "\u001b[31m[75]#011train-rmse:0.260994#011validation-rmse:0.301347\u001b[0m\n",
      "\u001b[31m[00:35:48] src/tree/updater_prune.cc:74: tree pruning end, 1 roots, 58 extra nodes, 0 pruned nodes, max_depth=5\u001b[0m\n",
      "\u001b[31m[76]#011train-rmse:0.260389#011validation-rmse:0.301145\u001b[0m\n",
      "\u001b[31m[00:35:48] src/tree/updater_prune.cc:74: tree pruning end, 1 roots, 60 extra nodes, 0 pruned nodes, max_depth=5\u001b[0m\n",
      "\u001b[31m[77]#011train-rmse:0.259799#011validation-rmse:0.300721\u001b[0m\n",
      "\u001b[31m[00:35:48] src/tree/updater_prune.cc:74: tree pruning end, 1 roots, 62 extra nodes, 0 pruned nodes, max_depth=5\u001b[0m\n",
      "\u001b[31m[78]#011train-rmse:0.258225#011validation-rmse:0.299371\u001b[0m\n",
      "\u001b[31m[00:35:48] src/tree/updater_prune.cc:74: tree pruning end, 1 roots, 60 extra nodes, 0 pruned nodes, max_depth=5\u001b[0m\n",
      "\u001b[31m[79]#011train-rmse:0.25743#011validation-rmse:0.298869\u001b[0m\n",
      "\u001b[31m[00:35:48] src/tree/updater_prune.cc:74: tree pruning end, 1 roots, 54 extra nodes, 0 pruned nodes, max_depth=5\u001b[0m\n",
      "\u001b[31m[80]#011train-rmse:0.256989#011validation-rmse:0.29873\u001b[0m\n",
      "\u001b[31m[00:35:48] src/tree/updater_prune.cc:74: tree pruning end, 1 roots, 62 extra nodes, 0 pruned nodes, max_depth=5\u001b[0m\n",
      "\u001b[31m[81]#011train-rmse:0.256404#011validation-rmse:0.29829\u001b[0m\n",
      "\u001b[31m[00:35:48] src/tree/updater_prune.cc:74: tree pruning end, 1 roots, 50 extra nodes, 0 pruned nodes, max_depth=5\u001b[0m\n",
      "\u001b[31m[82]#011train-rmse:0.256071#011validation-rmse:0.298083\u001b[0m\n",
      "\u001b[31m[83]#011train-rmse:0.255169#011validation-rmse:0.297526\u001b[0m\n",
      "\u001b[31m[84]#011train-rmse:0.254328#011validation-rmse:0.297154\u001b[0m\n",
      "\u001b[31m[85]#011train-rmse:0.253839#011validation-rmse:0.296826\u001b[0m\n",
      "\u001b[31m[86]#011train-rmse:0.252786#011validation-rmse:0.296029\u001b[0m\n",
      "\u001b[31m[00:35:48] src/tree/updater_prune.cc:74: tree pruning end, 1 roots, 60 extra nodes, 0 pruned nodes, max_depth=5\u001b[0m\n",
      "\u001b[31m[00:35:48] src/tree/updater_prune.cc:74: tree pruning end, 1 roots, 62 extra nodes, 0 pruned nodes, max_depth=5\u001b[0m\n",
      "\u001b[31m[00:35:48] src/tree/updater_prune.cc:74: tree pruning end, 1 roots, 58 extra nodes, 0 pruned nodes, max_depth=5\u001b[0m\n",
      "\u001b[31m[00:35:48] src/tree/updater_prune.cc:74: tree pruning end, 1 roots, 62 extra nodes, 0 pruned nodes, max_depth=5\u001b[0m\n",
      "\u001b[31m[00:35:48] src/tree/updater_prune.cc:74: tree pruning end, 1 roots, 60 extra nodes, 0 pruned nodes, max_depth=5\u001b[0m\n",
      "\u001b[31m[87]#011train-rmse:0.252143#011validation-rmse:0.295881\u001b[0m\n",
      "\u001b[31m[00:35:48] src/tree/updater_prune.cc:74: tree pruning end, 1 roots, 62 extra nodes, 0 pruned nodes, max_depth=5\u001b[0m\n",
      "\u001b[31m[88]#011train-rmse:0.251429#011validation-rmse:0.295702\u001b[0m\n",
      "\u001b[31m[00:35:48] src/tree/updater_prune.cc:74: tree pruning end, 1 roots, 62 extra nodes, 0 pruned nodes, max_depth=5\u001b[0m\n",
      "\u001b[31m[89]#011train-rmse:0.250749#011validation-rmse:0.295331\u001b[0m\n",
      "\u001b[31m[00:35:48] src/tree/updater_prune.cc:74: tree pruning end, 1 roots, 60 extra nodes, 0 pruned nodes, max_depth=5\u001b[0m\n",
      "\u001b[31m[90]#011train-rmse:0.250115#011validation-rmse:0.295082\u001b[0m\n",
      "\u001b[31m[00:35:48] src/tree/updater_prune.cc:74: tree pruning end, 1 roots, 62 extra nodes, 0 pruned nodes, max_depth=5\u001b[0m\n",
      "\u001b[31m[91]#011train-rmse:0.249589#011validation-rmse:0.294757\u001b[0m\n",
      "\u001b[31m[00:35:48] src/tree/updater_prune.cc:74: tree pruning end, 1 roots, 58 extra nodes, 0 pruned nodes, max_depth=5\u001b[0m\n",
      "\u001b[31m[92]#011train-rmse:0.249113#011validation-rmse:0.29446\u001b[0m\n",
      "\u001b[31m[00:35:48] src/tree/updater_prune.cc:74: tree pruning end, 1 roots, 62 extra nodes, 0 pruned nodes, max_depth=5\u001b[0m\n",
      "\u001b[31m[93]#011train-rmse:0.248745#011validation-rmse:0.294469\u001b[0m\n",
      "\u001b[31m[00:35:48] src/tree/updater_prune.cc:74: tree pruning end, 1 roots, 60 extra nodes, 0 pruned nodes, max_depth=5\u001b[0m\n",
      "\u001b[31m[94]#011train-rmse:0.248487#011validation-rmse:0.29429\u001b[0m\n",
      "\u001b[31m[00:35:48] src/tree/updater_prune.cc:74: tree pruning end, 1 roots, 56 extra nodes, 0 pruned nodes, max_depth=5\u001b[0m\n",
      "\u001b[31m[95]#011train-rmse:0.248166#011validation-rmse:0.294209\u001b[0m\n",
      "\u001b[31m[00:35:48] src/tree/updater_prune.cc:74: tree pruning end, 1 roots, 58 extra nodes, 0 pruned nodes, max_depth=5\u001b[0m\n",
      "\u001b[31m[96]#011train-rmse:0.247609#011validation-rmse:0.29411\u001b[0m\n",
      "\u001b[31m[00:35:48] src/tree/updater_prune.cc:74: tree pruning end, 1 roots, 56 extra nodes, 0 pruned nodes, max_depth=5\u001b[0m\n",
      "\u001b[31m[97]#011train-rmse:0.246977#011validation-rmse:0.293687\u001b[0m\n",
      "\u001b[31m[00:35:48] src/tree/updater_prune.cc:74: tree pruning end, 1 roots, 62 extra nodes, 0 pruned nodes, max_depth=5\u001b[0m\n",
      "\u001b[31m[98]#011train-rmse:0.246453#011validation-rmse:0.293642\u001b[0m\n",
      "\u001b[31m[00:35:48] src/tree/updater_prune.cc:74: tree pruning end, 1 roots, 60 extra nodes, 0 pruned nodes, max_depth=5\u001b[0m\n",
      "\u001b[31m[99]#011train-rmse:0.246155#011validation-rmse:0.293546\u001b[0m\n",
      "\u001b[31m[100]#011train-rmse:0.245311#011validation-rmse:0.292948\u001b[0m\n",
      "\u001b[31m[00:35:48] src/tree/updater_prune.cc:74: tree pruning end, 1 roots, 60 extra nodes, 0 pruned nodes, max_depth=5\u001b[0m\n",
      "\u001b[31m[00:35:48] src/tree/updater_prune.cc:74: tree pruning end, 1 roots, 54 extra nodes, 0 pruned nodes, max_depth=5\u001b[0m\n",
      "\u001b[31m[101]#011train-rmse:0.244896#011validation-rmse:0.293021\u001b[0m\n",
      "\u001b[31m[00:35:48] src/tree/updater_prune.cc:74: tree pruning end, 1 roots, 62 extra nodes, 0 pruned nodes, max_depth=5\u001b[0m\n",
      "\u001b[31m[102]#011train-rmse:0.244372#011validation-rmse:0.292922\u001b[0m\n",
      "\u001b[31m[00:35:48] src/tree/updater_prune.cc:74: tree pruning end, 1 roots, 58 extra nodes, 0 pruned nodes, max_depth=5\u001b[0m\n",
      "\u001b[31m[103]#011train-rmse:0.244071#011validation-rmse:0.292844\u001b[0m\n",
      "\u001b[31m[00:35:48] src/tree/updater_prune.cc:74: tree pruning end, 1 roots, 48 extra nodes, 0 pruned nodes, max_depth=5\u001b[0m\n",
      "\u001b[31m[104]#011train-rmse:0.243725#011validation-rmse:0.292786\u001b[0m\n",
      "\u001b[31m[00:35:48] src/tree/updater_prune.cc:74: tree pruning end, 1 roots, 62 extra nodes, 0 pruned nodes, max_depth=5\u001b[0m\n",
      "\u001b[31m[105]#011train-rmse:0.24306#011validation-rmse:0.292485\u001b[0m\n",
      "\u001b[31m[00:35:48] src/tree/updater_prune.cc:74: tree pruning end, 1 roots, 56 extra nodes, 0 pruned nodes, max_depth=5\u001b[0m\n",
      "\u001b[31m[106]#011train-rmse:0.242299#011validation-rmse:0.291901\u001b[0m\n",
      "\u001b[31m[00:35:48] src/tree/updater_prune.cc:74: tree pruning end, 1 roots, 58 extra nodes, 0 pruned nodes, max_depth=5\u001b[0m\n",
      "\u001b[31m[107]#011train-rmse:0.241568#011validation-rmse:0.291641\u001b[0m\n",
      "\u001b[31m[00:35:48] src/tree/updater_prune.cc:74: tree pruning end, 1 roots, 36 extra nodes, 0 pruned nodes, max_depth=5\u001b[0m\n",
      "\u001b[31m[108]#011train-rmse:0.241357#011validation-rmse:0.291698\u001b[0m\n",
      "\u001b[31m[00:35:48] src/tree/updater_prune.cc:74: tree pruning end, 1 roots, 62 extra nodes, 0 pruned nodes, max_depth=5\u001b[0m\n",
      "\u001b[31m[109]#011train-rmse:0.240863#011validation-rmse:0.291672\u001b[0m\n",
      "\u001b[31m[00:35:48] src/tree/updater_prune.cc:74: tree pruning end, 1 roots, 60 extra nodes, 0 pruned nodes, max_depth=5\u001b[0m\n",
      "\u001b[31m[110]#011train-rmse:0.239738#011validation-rmse:0.290998\u001b[0m\n",
      "\u001b[31m[00:35:48] src/tree/updater_prune.cc:74: tree pruning end, 1 roots, 54 extra nodes, 0 pruned nodes, max_depth=5\u001b[0m\n",
      "\u001b[31m[111]#011train-rmse:0.238961#011validation-rmse:0.290341\u001b[0m\n",
      "\u001b[31m[00:35:48] src/tree/updater_prune.cc:74: tree pruning end, 1 roots, 62 extra nodes, 0 pruned nodes, max_depth=5\u001b[0m\n",
      "\u001b[31m[112]#011train-rmse:0.238451#011validation-rmse:0.290361\u001b[0m\n",
      "\u001b[31m[00:35:48] src/tree/updater_prune.cc:74: tree pruning end, 1 roots, 62 extra nodes, 0 pruned nodes, max_depth=5\u001b[0m\n",
      "\u001b[31m[113]#011train-rmse:0.237795#011validation-rmse:0.290495\u001b[0m\n",
      "\u001b[31m[00:35:48] src/tree/updater_prune.cc:74: tree pruning end, 1 roots, 52 extra nodes, 0 pruned nodes, max_depth=5\u001b[0m\n",
      "\u001b[31m[114]#011train-rmse:0.237491#011validation-rmse:0.290438\u001b[0m\n",
      "\u001b[31m[00:35:48] src/tree/updater_prune.cc:74: tree pruning end, 1 roots, 48 extra nodes, 0 pruned nodes, max_depth=5\u001b[0m\n",
      "\u001b[31m[115]#011train-rmse:0.23716#011validation-rmse:0.290325\u001b[0m\n",
      "\u001b[31m[00:35:48] src/tree/updater_prune.cc:74: tree pruning end, 1 roots, 62 extra nodes, 0 pruned nodes, max_depth=5\u001b[0m\n",
      "\u001b[31m[116]#011train-rmse:0.236582#011validation-rmse:0.290193\u001b[0m\n",
      "\u001b[31m[00:35:48] src/tree/updater_prune.cc:74: tree pruning end, 1 roots, 56 extra nodes, 0 pruned nodes, max_depth=5\u001b[0m\n",
      "\u001b[31m[117]#011train-rmse:0.236242#011validation-rmse:0.290138\u001b[0m\n",
      "\u001b[31m[00:35:48] src/tree/updater_prune.cc:74: tree pruning end, 1 roots, 62 extra nodes, 0 pruned nodes, max_depth=5\u001b[0m\n",
      "\u001b[31m[118]#011train-rmse:0.235715#011validation-rmse:0.290071\u001b[0m\n",
      "\u001b[31m[00:35:48] src/tree/updater_prune.cc:74: tree pruning end, 1 roots, 60 extra nodes, 0 pruned nodes, max_depth=5\u001b[0m\n",
      "\u001b[31m[119]#011train-rmse:0.235348#011validation-rmse:0.289956\u001b[0m\n",
      "\u001b[31m[00:35:48] src/tree/updater_prune.cc:74: tree pruning end, 1 roots, 62 extra nodes, 0 pruned nodes, max_depth=5\u001b[0m\n",
      "\u001b[31m[120]#011train-rmse:0.235018#011validation-rmse:0.28978\u001b[0m\n",
      "\u001b[31m[00:35:48] src/tree/updater_prune.cc:74: tree pruning end, 1 roots, 52 extra nodes, 0 pruned nodes, max_depth=5\u001b[0m\n",
      "\u001b[31m[121]#011train-rmse:0.234546#011validation-rmse:0.289498\u001b[0m\n",
      "\u001b[31m[00:35:48] src/tree/updater_prune.cc:74: tree pruning end, 1 roots, 34 extra nodes, 0 pruned nodes, max_depth=5\u001b[0m\n",
      "\u001b[31m[122]#011train-rmse:0.234335#011validation-rmse:0.289444\u001b[0m\n",
      "\u001b[31m[00:35:48] src/tree/updater_prune.cc:74: tree pruning end, 1 roots, 62 extra nodes, 0 pruned nodes, max_depth=5\u001b[0m\n",
      "\u001b[31m[123]#011train-rmse:0.233862#011validation-rmse:0.289387\u001b[0m\n",
      "\u001b[31m[00:35:48] src/tree/updater_prune.cc:74: tree pruning end, 1 roots, 62 extra nodes, 0 pruned nodes, max_depth=5\u001b[0m\n",
      "\u001b[31m[124]#011train-rmse:0.233453#011validation-rmse:0.289293\u001b[0m\n",
      "\u001b[31m[00:35:48] src/tree/updater_prune.cc:74: tree pruning end, 1 roots, 62 extra nodes, 0 pruned nodes, max_depth=5\u001b[0m\n",
      "\u001b[31m[125]#011train-rmse:0.233087#011validation-rmse:0.289422\u001b[0m\n",
      "\u001b[31m[00:35:48] src/tree/updater_prune.cc:74: tree pruning end, 1 roots, 56 extra nodes, 0 pruned nodes, max_depth=5\u001b[0m\n",
      "\u001b[31m[126]#011train-rmse:0.232761#011validation-rmse:0.289229\u001b[0m\n",
      "\u001b[31m[00:35:48] src/tree/updater_prune.cc:74: tree pruning end, 1 roots, 56 extra nodes, 0 pruned nodes, max_depth=5\u001b[0m\n",
      "\u001b[31m[00:35:48] src/tree/updater_prune.cc:74: tree pruning end, 1 roots, 60 extra nodes, 0 pruned nodes, max_depth=5\u001b[0m\n",
      "\u001b[31m[00:35:48] src/tree/updater_prune.cc:74: tree pruning end, 1 roots, 60 extra nodes, 0 pruned nodes, max_depth=5\u001b[0m\n",
      "\u001b[31m[127]#011train-rmse:0.232469#011validation-rmse:0.289104\u001b[0m\n",
      "\u001b[31m[128]#011train-rmse:0.232156#011validation-rmse:0.288992\u001b[0m\n",
      "\u001b[31m[129]#011train-rmse:0.231659#011validation-rmse:0.288913\u001b[0m\n",
      "\u001b[31m[00:35:48] src/tree/updater_prune.cc:74: tree pruning end, 1 roots, 62 extra nodes, 0 pruned nodes, max_depth=5\u001b[0m\n",
      "\u001b[31m[130]#011train-rmse:0.23123#011validation-rmse:0.289178\u001b[0m\n",
      "\u001b[31m[00:35:48] src/tree/updater_prune.cc:74: tree pruning end, 1 roots, 58 extra nodes, 0 pruned nodes, max_depth=5\u001b[0m\n",
      "\u001b[31m[131]#011train-rmse:0.23061#011validation-rmse:0.288952\u001b[0m\n",
      "\u001b[31m[00:35:48] src/tree/updater_prune.cc:74: tree pruning end, 1 roots, 52 extra nodes, 0 pruned nodes, max_depth=5\u001b[0m\n",
      "\u001b[31m[132]#011train-rmse:0.230257#011validation-rmse:0.288893\u001b[0m\n",
      "\u001b[31m[00:35:48] src/tree/updater_prune.cc:74: tree pruning end, 1 roots, 62 extra nodes, 0 pruned nodes, max_depth=5\u001b[0m\n",
      "\u001b[31m[133]#011train-rmse:0.229948#011validation-rmse:0.288741\u001b[0m\n",
      "\u001b[31m[00:35:48] src/tree/updater_prune.cc:74: tree pruning end, 1 roots, 60 extra nodes, 0 pruned nodes, max_depth=5\u001b[0m\n",
      "\u001b[31m[134]#011train-rmse:0.229475#011validation-rmse:0.288414\u001b[0m\n",
      "\u001b[31m[00:35:48] src/tree/updater_prune.cc:74: tree pruning end, 1 roots, 48 extra nodes, 0 pruned nodes, max_depth=5\u001b[0m\n",
      "\u001b[31m[135]#011train-rmse:0.229277#011validation-rmse:0.28819\u001b[0m\n",
      "\u001b[31m[00:35:48] src/tree/updater_prune.cc:74: tree pruning end, 1 roots, 62 extra nodes, 0 pruned nodes, max_depth=5\u001b[0m\n",
      "\u001b[31m[136]#011train-rmse:0.228744#011validation-rmse:0.287951\u001b[0m\n",
      "\u001b[31m[00:35:48] src/tree/updater_prune.cc:74: tree pruning end, 1 roots, 60 extra nodes, 0 pruned nodes, max_depth=5\u001b[0m\n",
      "\u001b[31m[137]#011train-rmse:0.228374#011validation-rmse:0.287896\u001b[0m\n",
      "\u001b[31m[00:35:48] src/tree/updater_prune.cc:74: tree pruning end, 1 roots, 62 extra nodes, 0 pruned nodes, max_depth=5\u001b[0m\n",
      "\u001b[31m[138]#011train-rmse:0.227898#011validation-rmse:0.287652\u001b[0m\n",
      "\u001b[31m[00:35:48] src/tree/updater_prune.cc:74: tree pruning end, 1 roots, 62 extra nodes, 0 pruned nodes, max_depth=5\u001b[0m\n",
      "\u001b[31m[139]#011train-rmse:0.227396#011validation-rmse:0.287366\u001b[0m\n",
      "\u001b[31m[00:35:48] src/tree/updater_prune.cc:74: tree pruning end, 1 roots, 48 extra nodes, 0 pruned nodes, max_depth=5\u001b[0m\n",
      "\u001b[31m[140]#011train-rmse:0.227204#011validation-rmse:0.287282\u001b[0m\n",
      "\u001b[31m[00:35:48] src/tree/updater_prune.cc:74: tree pruning end, 1 roots, 58 extra nodes, 0 pruned nodes, max_depth=5\u001b[0m\n",
      "\u001b[31m[141]#011train-rmse:0.226758#011validation-rmse:0.287228\u001b[0m\n",
      "\u001b[31m[00:35:48] src/tree/updater_prune.cc:74: tree pruning end, 1 roots, 62 extra nodes, 0 pruned nodes, max_depth=5\u001b[0m\n",
      "\u001b[31m[142]#011train-rmse:0.226286#011validation-rmse:0.286825\u001b[0m\n",
      "\u001b[31m[00:35:48] src/tree/updater_prune.cc:74: tree pruning end, 1 roots, 58 extra nodes, 0 pruned nodes, max_depth=5\u001b[0m\n",
      "\u001b[31m[143]#011train-rmse:0.225852#011validation-rmse:0.286673\u001b[0m\n",
      "\u001b[31m[00:35:48] src/tree/updater_prune.cc:74: tree pruning end, 1 roots, 62 extra nodes, 0 pruned nodes, max_depth=5\u001b[0m\n",
      "\u001b[31m[144]#011train-rmse:0.225343#011validation-rmse:0.286788\u001b[0m\n",
      "\u001b[31m[00:35:48] src/tree/updater_prune.cc:74: tree pruning end, 1 roots, 56 extra nodes, 0 pruned nodes, max_depth=5\u001b[0m\n",
      "\u001b[31m[145]#011train-rmse:0.225181#011validation-rmse:0.286868\u001b[0m\n",
      "\u001b[31m[00:35:48] src/tree/updater_prune.cc:74: tree pruning end, 1 roots, 62 extra nodes, 0 pruned nodes, max_depth=5\u001b[0m\n",
      "\u001b[31m[146]#011train-rmse:0.224716#011validation-rmse:0.286685\u001b[0m\n",
      "\u001b[31m[00:35:48] src/tree/updater_prune.cc:74: tree pruning end, 1 roots, 52 extra nodes, 0 pruned nodes, max_depth=5\u001b[0m\n",
      "\u001b[31m[147]#011train-rmse:0.224462#011validation-rmse:0.286633\u001b[0m\n",
      "\u001b[31m[148]#011train-rmse:0.224072#011validation-rmse:0.286552\u001b[0m\n",
      "\u001b[31m[149]#011train-rmse:0.223857#011validation-rmse:0.286733\u001b[0m\n",
      "\u001b[31m[00:35:48] src/tree/updater_prune.cc:74: tree pruning end, 1 roots, 62 extra nodes, 0 pruned nodes, max_depth=5\u001b[0m\n",
      "\u001b[31m[00:35:48] src/tree/updater_prune.cc:74: tree pruning end, 1 roots, 46 extra nodes, 0 pruned nodes, max_depth=5\u001b[0m\n"
     ]
    },
    {
     "name": "stdout",
     "output_type": "stream",
     "text": [
      "\n",
      "Billable seconds: 88\n"
     ]
    }
   ],
   "source": [
    "# XGBoost supports \"train\", \"validation\" channels\n",
    "# Reference: Supported channels by algorithm\n",
    "#   https://docs.aws.amazon.com/sagemaker/latest/dg/sagemaker-algo-docker-registry-paths.html\n",
    "\n",
    "\n",
    "estimator.fit({'train':training_input_config, 'validation':validation_input_config})"
   ]
  },
  {
   "cell_type": "markdown",
   "metadata": {},
   "source": [
    "## Deploy Model"
   ]
  },
  {
   "cell_type": "code",
   "execution_count": 17,
   "metadata": {},
   "outputs": [
    {
     "name": "stderr",
     "output_type": "stream",
     "text": [
      "INFO:sagemaker:Creating model with name: xgboost-2018-08-25-00-36-19-364\n",
      "INFO:sagemaker:Creating endpoint with name xgboost-biketrain-v1\n"
     ]
    },
    {
     "name": "stdout",
     "output_type": "stream",
     "text": [
      "---------------------------------------------------------------!"
     ]
    }
   ],
   "source": [
    "# Ref: http://sagemaker.readthedocs.io/en/latest/estimators.html\n",
    "\n",
    "predictor = estimator.deploy(initial_instance_count=1,\n",
    "                             instance_type='ml.m4.xlarge',\n",
    "                             endpoint_name = 'xgboost-biketrain-v1')"
   ]
  },
  {
   "cell_type": "code",
   "execution_count": null,
   "metadata": {},
   "outputs": [],
   "source": []
  }
 ],
 "metadata": {
  "kernelspec": {
   "display_name": "conda_python3",
   "language": "python",
   "name": "conda_python3"
  },
  "language_info": {
   "codemirror_mode": {
    "name": "ipython",
    "version": 3
   },
   "file_extension": ".py",
   "mimetype": "text/x-python",
   "name": "python",
   "nbconvert_exporter": "python",
   "pygments_lexer": "ipython3",
   "version": "3.6.5"
  }
 },
 "nbformat": 4,
 "nbformat_minor": 2
}
